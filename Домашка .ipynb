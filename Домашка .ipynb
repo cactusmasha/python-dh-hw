{
 "cells": [
  {
   "cell_type": "code",
   "execution_count": 1,
   "metadata": {},
   "outputs": [],
   "source": [
    "#Скачайте из папки с домашними заданиями английский текст первой книги о Гарри Поттере. Он должен быть сохранен отдельным файлом.\n",
    "#Очистите текст от пунктуации, приведите его к нижнему регистру, лемматизируйте и запишите в новый файл. Проверьте, выполняется ли здесь закон Ципфа. Для этого постройте линейную диаграмму, где по оси Х будет ранг (порядковый номер) слова в отсортированном по убыванию частотном словаре, а по оси Y - относительная частота (абсолютная частота, разделенная на количество слов в тексте). Т.е. у самого частотного слова будет ранг 1, у второго по частоте -- 2 и т.д.\n",
    "#Очистите текст от стоп-слов. Постройте barplot для 30 самых частотных слов. Эти слова должны быть по оси Х в виде подписей к делениям. Значениями по этой оси будет ряд чисел от 0 до 30."
   ]
  },
  {
   "cell_type": "code",
   "execution_count": 1,
   "metadata": {},
   "outputs": [],
   "source": [
    "from pymystem3 import Mystem\n",
    "import nltk\n",
    "import matplotlib\n",
    "import matplotlib.pyplot as plt\n",
    "from matplotlib import style\n",
    "import os\n",
    "from string import punctuation\n",
    "import nltk\n",
    "from nltk.corpus import stopwords\n",
    "from nltk import WordNetLemmatizer\n",
    "from nltk.tokenize import word_tokenize\n",
    "my_text = []\n",
    "\n",
    "\n",
    "\n"
   ]
  },
  {
   "cell_type": "code",
   "execution_count": 2,
   "metadata": {
    "scrolled": true
   },
   "outputs": [
    {
     "name": "stdout",
     "output_type": "stream",
     "text": [
      "['CHAPTER', 'ONE', 'THE', 'BOY', 'WHO', 'LIVED', 'Mr.', 'and', 'Mrs.', 'Dursley,', 'of', 'number', 'four,', 'Privet', 'Drive,', 'were', 'proud', 'to', 'say', 'that', 'they', 'were', 'perfectly', 'normal,', 'thank', 'you', 'very', 'much.', 'They', 'were', 'the', 'last', 'people', \"you'd\", 'expect', 'to', 'be', 'involved', 'in', 'anything', 'strange', 'or', 'mysterious,', 'because', 'they', 'just', \"didn't\", 'hold', 'with', 'such', 'nonsense.', 'Mr.', 'Dursley', 'was', 'the', 'director', 'of', 'a', 'firm', 'called', 'Grunnings,', 'which', 'made', 'drills.', 'He', 'was', 'a', 'big,', 'beefy', 'man', 'with', 'hardly', 'any', 'neck,', 'although', 'he', 'did', 'have', 'a', 'very', 'large', 'mustache.', 'Mrs.', 'Dursley', 'was', 'thin', 'and', 'blonde', 'and', 'had', 'nearly', 'twice', 'the', 'usual', 'amount', 'of', 'neck,', 'which', 'came', 'in']\n",
      "['chapter', 'one', 'the', 'boy', 'who', 'lived', 'mr', 'and', 'mrs', 'dursley', 'of', 'number', 'four', 'privet', 'drive', 'were', 'proud', 'to', 'say', 'that', 'they', 'were', 'perfectly', 'normal', 'thank', 'you', 'very', 'much', 'they', 'were', 'the', 'last', 'people', \"you'd\", 'expect', 'to', 'be', 'involved', 'in', 'anything', 'strange', 'or', 'mysterious', 'because', 'they', 'just', \"didn't\", 'hold', 'with', 'such', 'nonsense', 'mr', 'dursley', 'was', 'the', 'director', 'of', 'a', 'firm', 'called', 'grunnings', 'which', 'made', 'drills', 'he', 'was', 'a', 'big', 'beefy', 'man', 'with', 'hardly', 'any', 'neck', 'although', 'he', 'did', 'have', 'a', 'very', 'large', 'mustache', 'mrs', 'dursley', 'was', 'thin', 'and', 'blonde', 'and', 'had', 'nearly', 'twice', 'the', 'usual', 'amount', 'of', 'neck', 'which', 'came', 'in']\n"
     ]
    }
   ],
   "source": [
    "#Открываем текст, обрезаем пунктуацию, приводим к нижнему регистру\n",
    "with open('Harry_Potter_and_the_Sorcerers_Stone.txt','r', encoding='utf-8') as f:\n",
    "    for line in f:\n",
    "        line = line.split()\n",
    "        for word in line:\n",
    "            my_text.append(word)\n",
    "print(my_text[:100])\n",
    "mytext = \" \".join(my_text)\n",
    "my_text1 = mytext.lower()\n",
    "mtxt = my_text1.split()\n",
    "clear_text = [w.strip(punctuation) for w in mtxt]\n",
    "print(clear_text[:100])\n"
   ]
  },
  {
   "cell_type": "code",
   "execution_count": 3,
   "metadata": {},
   "outputs": [
    {
     "name": "stdout",
     "output_type": "stream",
     "text": [
      "chapter one the boy who live mr and mrs dursley of number four privet drive be proud to say that they be perfectly normal thank you very much they be the last people you'd expect to be involve in anything strange or mysterious because they just didn't hold with such nonsense mr dursley be the director of a firm call grunnings which make drill he be a big beefy man with hardly any neck although he do have a very large mustache mrs dursley be thin and blonde and have nearly twice the usual amount \n"
     ]
    }
   ],
   "source": [
    "#лемматизация текста и запись в файл\n",
    "with open ('Harry_Potter_lemmas.txt', 'w+', encoding = 'utf-8') as a:\n",
    "    from nltk import WordNetLemmatizer\n",
    "    wnl = WordNetLemmatizer()\n",
    "    lem = ''\n",
    "    for word in clear_text:\n",
    "        ep = wnl.lemmatize(word, pos='v')\n",
    "        lem += str(ep)\n",
    "        lem += ' '\n",
    "    a.write(lem)\n",
    "\n",
    "\n",
    "print(lem[:500])"
   ]
  },
  {
   "cell_type": "code",
   "execution_count": 11,
   "metadata": {
    "scrolled": true
   },
   "outputs": [
    {
     "name": "stdout",
     "output_type": "stream",
     "text": [
      "[('the', 3562), ('be', 2385), ('to', 1838), ('and', 1819), ('a', 1648), ('he', 1468), ('of', 1246), ('harry', 1143), ('have', 1032), ('in', 943), ('his', 933), ('say', 916), ('it', 894), ('you', 693), ('at', 621), ('on', 616), ('they', 569), ('that', 553), ('as', 520), ('him', 464), ('i', 461), ('get', 431), ('with', 412), ('ron', 396), ('but', 395), ('look', 372), ('for', 357), ('go', 357), ('out', 355), ('all', 352), ('up', 345), ('do', 310), ('them', 306), ('hagrid', 303), ('know', 265), ('what', 261), ('back', 252), ('hermione', 241), ('from', 240), ('think', 233), ('one', 232), ('there', 228), ('she', 220), ('if', 220), ('into', 219), ('their', 216), ('see', 216), ('about', 214), ('not', 209), ('this', 208), ('like', 201), ('an', 199), ('so', 196), ('off', 195), (\"didn't\", 192), ('could', 187), ('come', 180), ('when', 175), ('tell', 175), ('down', 173), ('her', 170), ('me', 170), ('over', 167), ('try', 167), ('take', 166), ('very', 165), ('just', 159), ('professor', 159), ('who', 152), ('by', 150), ('then', 143), ('«i', 143), ('your', 142), ('around', 139), ('make', 137), ('no', 135), (\"he'd\", 135), ('find', 129), ('snape', 129), ('want', 128), ('time', 127), ('through', 125), ('dumbledore', 125), ('leave', 120), ('we', 120), ('head', 119), ('uncle', 119), ('now', 118), ('eye', 117), ('turn', 114), ('even', 113), ('never', 112), (\"don't\", 112), ('something', 110), (\"harry's\", 109), ('dudley', 108), ('more', 108), ('face', 107), ('how', 106), ('hear', 105)]\n"
     ]
    }
   ],
   "source": [
    "#Вычисление абсолютной частоты и сортировка списка\n",
    "counts = {}\n",
    "lemma = list(lem.split( ))\n",
    "for word in lemma:\n",
    "    if word in counts:\n",
    "        counts[word] += 1\n",
    "    else:\n",
    "        counts[word] = 1\n",
    "sorted_counts = sorted(counts.items(), key=lambda x: x[1], reverse=True)\n",
    "print(sorted_counts[:100])\n",
    "    "
   ]
  },
  {
   "cell_type": "code",
   "execution_count": 7,
   "metadata": {},
   "outputs": [
    {
     "data": {
      "image/png": "[encoded data removed]",
      "text/plain": [
       "<Figure size 432x288 with 1 Axes>"
      ]
     },
     "metadata": {},
     "output_type": "display_data"
    }
   ],
   "source": [
    "#Проверка закона Ципфа\n",
    "c = 0\n",
    "r = []\n",
    "q = []\n",
    "for line in sorted_counts:\n",
    "    c += 1\n",
    "    r.append(c)\n",
    "    q.append(line[1]/len(sorted_counts))\n",
    "plt.title(\"Проверка закона Ципфа\")\n",
    "plt.xlabel('Ранг слова')\n",
    "plt.ylabel('Относительная частота слова')\n",
    "plt.plot(r, q, c = 'green')\n",
    "plt.show()\n"
   ]
  },
  {
   "cell_type": "code",
   "execution_count": 10,
   "metadata": {},
   "outputs": [
    {
     "name": "stdout",
     "output_type": "stream",
     "text": [
      "['chapter', 'one', 'boy', 'live', 'mr', 'mrs', 'dursley', 'number', 'four', 'privet', 'drive', 'proud', 'say', 'perfectly', 'normal', 'thank', 'much', 'last', 'people', 'expect', 'involve', 'anything', 'strange', 'mysterious', 'hold', 'nonsense', 'mr', 'dursley', 'director', 'firm', 'call', 'grunnings', 'make', 'drill', 'big', 'beefy', 'man', 'hardly', 'neck', 'although', 'large', 'mustache', 'mrs', 'dursley', 'thin', 'blonde', 'nearly', 'twice', 'usual', 'amount', 'neck', 'come', 'useful', 'spend', 'much', 'time', 'crane', 'garden', 'fence', 'spy', 'neighbor', 'dursleys', 'small', 'son', 'call', 'dudley', 'opinion', 'finer', 'boy', 'anywhere', 'dursleys', 'everything', 'want', 'also', 'secret', 'greatest', 'fear', 'somebody', 'would', 'discover', 'think', 'could', 'bear', 'anyone', 'find', 'potter', 'mrs', 'potter', 'mrs', \"dursley's\", 'sister', 'meet', 'several', 'years', 'fact', 'mrs', 'dursley', 'pretend', 'sister', 'sister']\n"
     ]
    }
   ],
   "source": [
    "#Очистим текст от стоп-слов\n",
    "sw = stopwords.words('english')\n",
    "filtered = [w for w in lemma if w not in sw]\n",
    "print(filtered[:100])"
   ]
  },
  {
   "cell_type": "code",
   "execution_count": 18,
   "metadata": {},
   "outputs": [
    {
     "name": "stdout",
     "output_type": "stream",
     "text": [
      "[('harry', 1143), ('say', 916), ('get', 431), ('ron', 396), ('look', 372), ('go', 357), ('hagrid', 303), ('know', 265), ('back', 252), ('hermione', 241), ('think', 233), ('one', 232), ('see', 216), ('like', 201), ('could', 187), ('come', 180), ('tell', 175), ('try', 167), ('take', 166), ('professor', 159), ('«i', 143), ('around', 139), ('make', 137), (\"he'd\", 135), ('find', 129), ('snape', 129), ('want', 128), ('time', 127), ('dumbledore', 125), ('leave', 120), ('head', 119), ('uncle', 119), ('eye', 117), ('turn', 114), ('even', 113), ('never', 112), ('something', 110), (\"harry's\", 109), ('dudley', 108), ('face', 107), ('hear', 105), ('hand', 104), ('door', 103), ('would', 102), ('first', 102), ('keep', 100), ('vernon', 99), ('ask', 98), ('stand', 96), ('seem', 96), ('malfoy', 95), ('two', 94), ('give', 93), ('next', 91), ('right', 91), ('people', 90), ('room', 90), ('point', 89), ('still', 89), ('mcgonagall', 89), ('neville', 88), ('way', 86), ('—»', 83), ('sit', 82), ('though', 82), ('last', 81), ('mr', 80), ('quirrell', 80), ('behind', 79), ('house', 78), ('«you', 78), ('yeh', 78), ('start', 76), ('ter', 75), ('bite', 74), ('much', 73), ('potter', 73), ('pull', 73), ('open', 73), ('gryffindor', 73), ('walk', 72), ('long', 71), ('toward', 70), ('little', 69), ('suddenly', 69), ('great', 69), ('boy', 68), ('stop', 68), ('us', 68), ('stone', 68), ('star', 67), ('away', 66), ('really', 66), (\"i'm\", 66), ('voice', 65), ('aunt', 65), ('anything', 64), ('call', 64), ('put', 64), ('catch', 64)]\n"
     ]
    }
   ],
   "source": [
    "#считаем самые частотные слова из отфильтрованного списка\n",
    "counts2 = {}\n",
    "for word in filtered:\n",
    "    if word in counts2:\n",
    "        counts2[word] += 1\n",
    "    else:\n",
    "        counts2[word] = 1\n",
    "sorted_counts2 = sorted(counts2.items(), key=lambda x: x[1], reverse=True)\n",
    "print(sorted_counts2[:100])\n"
   ]
  },
  {
   "cell_type": "code",
   "execution_count": 22,
   "metadata": {},
   "outputs": [
    {
     "data": {
      "image/png": "[encoded data removed]",
      "text/plain": [
       "<Figure size 432x288 with 1 Axes>"
      ]
     },
     "metadata": {},
     "output_type": "display_data"
    }
   ],
   "source": [
    "#Эти слова должны быть по оси Х в виде подписей к делениям. \n",
    "#Значениями по этой оси будет ряд чисел от 0 до 30.\n",
    "cc = range(30)\n",
    "xx = [word[1] for word in sorted_counts2]\n",
    "yy = [word[0] for word in sorted_counts2] \n",
    "plt.bar(cc, xx[:30], color ='green', edgecolor='black')\n",
    "plt.title('barplot для 30 самых частотных слов')\n",
    "plt.ylabel('числа')\n",
    "plt.xticks(cc, xx[:30], rotation=90)\n",
    "plt.show()"
   ]
  },
  {
   "cell_type": "code",
   "execution_count": null,
   "metadata": {},
   "outputs": [],
   "source": []
  }
 ],
 "metadata": {
  "kernelspec": {
   "display_name": "Python 3",
   "language": "python",
   "name": "python3"
  },
  "language_info": {
   "codemirror_mode": {
    "name": "ipython",
    "version": 3
   },
   "file_extension": ".py",
   "mimetype": "text/x-python",
   "name": "python",
   "nbconvert_exporter": "python",
   "pygments_lexer": "ipython3",
   "version": "3.6.5"
  }
 },
 "nbformat": 4,
 "nbformat_minor": 2
}
