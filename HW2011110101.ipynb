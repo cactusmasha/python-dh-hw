{
 "cells": [
  {
   "cell_type": "code",
   "execution_count": 14,
   "metadata": {},
   "outputs": [
    {
     "name": "stdout",
     "output_type": "stream",
     "text": [
      "7\n",
      "   _~_       _~_       _~_       _~_       _~_       _~_       _~_    \n",
      "  (o o)     (o o)     (o o)     (o o)     (o o)     (o o)     (o o)   \n",
      " /  V  \\   /  V  \\   /  V  \\   /  V  \\   /  V  \\   /  V  \\   /  V  \\  \n",
      "/(  _  )\\ /(  _  )\\ /(  _  )\\ /(  _  )\\ /(  _  )\\ /(  _  )\\ /(  _  )\\ \n",
      "  ^^ ^^     ^^ ^^     ^^ ^^     ^^ ^^     ^^ ^^     ^^ ^^     ^^ ^^   \n"
     ]
    }
   ],
   "source": [
    "#Программа для вывода n пингвинов\n",
    "#Разбиваем пингвинов на отдельные строки\n",
    "a = '   _~_    '\n",
    "b = '  (o o)   '\n",
    "c = ' /  V  \\\\  '\n",
    "d = '/(  _  )\\\\ '\n",
    "e = '  ^^ ^^   '\n",
    "k = int(input())\n",
    "#Делаем цикл, где k-вводимое число\n",
    "if k>9:\n",
    "    print('Ошибка')\n",
    "elif k<1:\n",
    "    print('Ошибка')\n",
    "else:\n",
    "    print(a * k)\n",
    "    print(b * k)\n",
    "    print(c * k)\n",
    "    print(d * k)\n",
    "    print(e * k)"
   ]
  },
  {
   "cell_type": "code",
   "execution_count": 1,
   "metadata": {},
   "outputs": [
    {
     "name": "stdout",
     "output_type": "stream",
     "text": [
      "ава\n",
      "YES\n"
     ]
    }
   ],
   "source": [
    "#Задание 4\n",
    "#Вводим слово на проверку\n",
    "word = input()\n",
    "if word == word[::-1]:\n",
    "    print('YES')\n",
    "else:\n",
    "    print('NO')"
   ]
  },
  {
   "cell_type": "code",
   "execution_count": null,
   "metadata": {},
   "outputs": [],
   "source": []
  }
 ],
 "metadata": {
  "kernelspec": {
   "display_name": "Python 3",
   "language": "python",
   "name": "python3"
  },
  "language_info": {
   "codemirror_mode": {
    "name": "ipython",
    "version": 3
   },
   "file_extension": ".py",
   "mimetype": "text/x-python",
   "name": "python",
   "nbconvert_exporter": "python",
   "pygments_lexer": "ipython3",
   "version": "3.6.5"
  }
 },
 "nbformat": 4,
 "nbformat_minor": 2
}
